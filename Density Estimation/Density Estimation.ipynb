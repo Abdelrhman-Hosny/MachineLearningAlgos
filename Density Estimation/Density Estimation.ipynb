{
 "metadata": {
  "language_info": {
   "codemirror_mode": {
    "name": "ipython",
    "version": 3
   },
   "file_extension": ".py",
   "mimetype": "text/x-python",
   "name": "python",
   "nbconvert_exporter": "python",
   "pygments_lexer": "ipython3",
   "version": "3.9.0-final"
  },
  "orig_nbformat": 2,
  "kernelspec": {
   "name": "python3",
   "display_name": "Python 3.9.0 64-bit",
   "metadata": {
    "interpreter": {
     "hash": "1967f45ab75df5fd471037fbdbc6143a93b25e366f5b54323c5f543e0eed266a"
    }
   }
  }
 },
 "nbformat": 4,
 "nbformat_minor": 2,
 "cells": [
  {
   "source": [
    "# Parzen - Window Density Estimation\n",
    "\n",
    "This notebook shows how you can estimate the distribution of the data to be used for analysis or a model like Bayes Classifier which is what we are doing."
   ],
   "cell_type": "markdown",
   "metadata": {}
  },
  {
   "source": [
    "**Explanation**\n",
    "\n",
    "What this does is that for each class each row is treated as a probability distribution and then we consider the probability distribution of the class as the *sum of all probability distributions of the rows*.\n",
    "\n",
    "$P(\\tilde{X}) = \\frac{1}{M} \\sum_{m=1}^M \\phi_h(X-X_m)$\n",
    "\n",
    "where $\\phi_h = \\frac{1}{h}g(\\frac{X}{h})$ and g is any valid probability density function\n",
    "\n",
    "Reminder of Bayes Rule : $P(C_k|x) = \\frac{P(x|C_k) * P(C_k)}{P(X)}$\n",
    "\n",
    "What we are trying to de here is trying to estimate $P(x|C_k)$ for each class which allows us to use it in Bayes Theorem as estimating P(C_k) is relatively easy.\n"
   ],
   "cell_type": "markdown",
   "metadata": {}
  },
  {
   "cell_type": "code",
   "execution_count": 1,
   "metadata": {},
   "outputs": [],
   "source": [
    "import numpy as np\n",
    "import matplotlib.pyplot as plt\n",
    "import pandas as pd"
   ]
  },
  {
   "source": [
    "Reading The Data"
   ],
   "cell_type": "markdown",
   "metadata": {}
  },
  {
   "cell_type": "code",
   "execution_count": 2,
   "metadata": {},
   "outputs": [],
   "source": [
    "def read_test_data():\n",
    "\n",
    "    test_data = pd.read_csv('test_data.csv',names=['Feature1'])\n",
    "    test_data_true = pd.read_csv('test_data_true.csv',names=['Class'])\n",
    "\n",
    "    return test_data, test_data_true\n",
    "\n",
    "def read_data():\n",
    "    \n",
    "    data = pd.read_csv('data.csv',names=['Class','Feature1'])\n",
    "    return data"
   ]
  },
  {
   "source": [],
   "cell_type": "markdown",
   "metadata": {}
  },
  {
   "cell_type": "code",
   "execution_count": 3,
   "metadata": {},
   "outputs": [],
   "source": [
    "data = read_data()\n",
    "data_X = np.asarray(data.drop(['Class'],axis=1).copy())\n",
    "data_y = np.asarray(data['Class'].copy())\n",
    "test_data, test_data_true = read_test_data()\n",
    "test_data , test_data_true= test_data.values , test_data_true.values\n",
    " "
   ]
  },
  {
   "source": [
    "According to Bowman, A.W., and Azzalini, A. (1997), Applied Smoothing Techniques for Data Analysis, London: Oxford University Press [page 32].\n",
    "\n",
    "The optimal value of h can be obtained through.\n",
    "\n",
    "$h_opt = \\frac{1}{N}\\sum_{i=1}^NH_i\\\\\n",
    "H_i = \\sigma_i [\\frac{4}{(N+2)M}]^{\\frac{1}{N+4}}\\\\\\sigma_i = \\sqrt{\\Sigma_{X_{ii}}}$\n",
    "\n"
   ],
   "cell_type": "markdown",
   "metadata": {}
  },
  {
   "cell_type": "code",
   "execution_count": 4,
   "metadata": {},
   "outputs": [],
   "source": [
    "def calculate_h_optimal(X_Class):\n",
    "    #.\n",
    "\n",
    "    h = 0\n",
    "    M = X_Class.shape[0]\n",
    "    N = X_Class.shape[1]\n",
    "    sigma_diagonal  = np.multiply(np.cov(X_Class,rowvar=False) , np.eye(N))\n",
    "\n",
    "    Const = np.power(  4 /( (N+2)*M ) , 1/(N+4) )\n",
    "    \n",
    "    h = np.sum( np.sqrt(sigma_diagonal) * Const )\n",
    "    \n",
    "    \n",
    "    return h"
   ]
  },
  {
   "source": [
    "For our choice of $g(x)$ , we chose a bounded gaussian distribution.\n",
    "\n",
    "Which is just like a gaussian distribution but doesnt range from $-\\infty < x < \\infty$ instead $- k\\,\\sigma < x < k\\,\\sigma$ where sigma is the standard deviation and k is a hyperparameter"
   ],
   "cell_type": "markdown",
   "metadata": {}
  },
  {
   "cell_type": "code",
   "execution_count": 5,
   "metadata": {},
   "outputs": [],
   "source": [
    "def gaussian_bump(x,h,sigma=0.85):\n",
    "    \n",
    "    return np.exp(-x**2/(2*(sigma*h)**2))/(np.sqrt(2*np.pi)*h*sigma)/ x.shape[0] / h\n",
    "\n",
    "def bounded_gaussian_bump(x,h,points,sigma,bound):\n",
    "    '''\n",
    "    Bound here refers to :\n",
    "    That X will be in range of  point - sigma * bound < x < point + sigma*bound\n",
    "    So bound is in term of sigma not absolute\n",
    "    '''\n",
    "    Mask1 = x > (points - sigma*bound)[:,None]\n",
    "    Mask2 = x < (points + sigma*bound)[:,None]\n",
    "\n",
    "    FullMask = Mask1 * Mask2\n",
    "    FullMask = np.squeeze(FullMask,axis=1)\n",
    "\n",
    "    return gaussian_bump(x-points,h,sigma) * FullMask "
   ]
  },
  {
   "cell_type": "code",
   "execution_count": 7,
   "metadata": {},
   "outputs": [],
   "source": [
    "# Separating the two classes\n",
    "C1 = data_X[data_y == 1]\n",
    "C2 = data_X[data_y == 2]"
   ]
  },
  {
   "cell_type": "code",
   "execution_count": 8,
   "metadata": {},
   "outputs": [],
   "source": [
    "# Adding X-axis for plotting\n",
    "min_x = min(np.min(C1) , np.min(C2))\n",
    "max_x = max(np.max(C1) , np.max(C2))\n",
    "number_of_axis_points = 10000\n",
    "x = np.linspace(min_x,max_x,number_of_axis_points)"
   ]
  },
  {
   "cell_type": "code",
   "execution_count": 9,
   "metadata": {},
   "outputs": [],
   "source": [
    "# Calculating optimal h for each class\n",
    "h1 = calculate_h_optimal(C1)\n",
    "h2 = calculate_h_optimal(C2)"
   ]
  },
  {
   "cell_type": "code",
   "execution_count": 10,
   "metadata": {},
   "outputs": [],
   "source": [
    "# calculating P(X|C_k) to use in Bayes Rule\n",
    "pxgivenC1 = np.sum(bounded_gaussian_bump(x=x,h=h1,points=C1,sigma=1,bound=3),axis=0) \n",
    "\n",
    "pxgivenC2 = np.sum(bounded_gaussian_bump(x=x,h=h2,points=C2,sigma=0.9,bound=np.inf) ,axis=0)"
   ]
  },
  {
   "source": [
    "Plotting the data vs real data"
   ],
   "cell_type": "markdown",
   "metadata": {}
  },
  {
   "cell_type": "code",
   "execution_count": 13,
   "metadata": {},
   "outputs": [
    {
     "output_type": "display_data",
     "data": {
      "text/plain": "<Figure size 432x288 with 1 Axes>",
      "image/svg+xml": "<?xml version=\"1.0\" encoding=\"utf-8\" standalone=\"no\"?>\r\n<!DOCTYPE svg PUBLIC \"-//W3C//DTD SVG 1.1//EN\"\r\n  \"http://www.w3.org/Graphics/SVG/1.1/DTD/svg11.dtd\">\r\n<!-- Created with matplotlib (https://matplotlib.org/) -->\r\n<svg height=\"263.63625pt\" version=\"1.1\" viewBox=\"0 0 378.465625 263.63625\" width=\"378.465625pt\" xmlns=\"http://www.w3.org/2000/svg\" xmlns:xlink=\"http://www.w3.org/1999/xlink\">\r\n <metadata>\r\n  <rdf:RDF xmlns:cc=\"http://creativecommons.org/ns#\" xmlns:dc=\"http://purl.org/dc/elements/1.1/\" xmlns:rdf=\"http://www.w3.org/1999/02/22-rdf-syntax-ns#\">\r\n   <cc:Work>\r\n    <dc:type rdf:resource=\"http://purl.org/dc/dcmitype/StillImage\"/>\r\n    <dc:date>2021-03-19T13:48:58.351355</dc:date>\r\n    <dc:format>image/svg+xml</dc:format>\r\n    <dc:creator>\r\n     <cc:Agent>\r\n      <dc:title>Matplotlib v3.3.2, https://matplotlib.org/</dc:title>\r\n     </cc:Agent>\r\n    </dc:creator>\r\n   </cc:Work>\r\n  </rdf:RDF>\r\n </metadata>\r\n <defs>\r\n  <style type=\"text/css\">*{stroke-linecap:butt;stroke-linejoin:round;}</style>\r\n </defs>\r\n <g id=\"figure_1\">\r\n  <g id=\"patch_1\">\r\n   <path d=\"M 0 263.63625 \r\nL 378.465625 263.63625 \r\nL 378.465625 0 \r\nL 0 0 \r\nz\r\n\" style=\"fill:none;\"/>\r\n  </g>\r\n  <g id=\"axes_1\">\r\n   <g id=\"patch_2\">\r\n    <path d=\"M 36.465625 239.758125 \r\nL 371.265625 239.758125 \r\nL 371.265625 22.318125 \r\nL 36.465625 22.318125 \r\nz\r\n\" style=\"fill:#ffffff;\"/>\r\n   </g>\r\n   <g id=\"matplotlib.axis_1\">\r\n    <g id=\"xtick_1\">\r\n     <g id=\"line2d_1\">\r\n      <defs>\r\n       <path d=\"M 0 0 \r\nL 0 3.5 \r\n\" id=\"md6d3c2313f\" style=\"stroke:#000000;stroke-width:0.8;\"/>\r\n      </defs>\r\n      <g>\r\n       <use style=\"stroke:#000000;stroke-width:0.8;\" x=\"67.888938\" xlink:href=\"#md6d3c2313f\" y=\"239.758125\"/>\r\n      </g>\r\n     </g>\r\n     <g id=\"text_1\">\r\n      <!-- −5 -->\r\n      <g transform=\"translate(60.517844 254.356563)scale(0.1 -0.1)\">\r\n       <defs>\r\n        <path d=\"M 10.59375 35.5 \r\nL 73.1875 35.5 \r\nL 73.1875 27.203125 \r\nL 10.59375 27.203125 \r\nz\r\n\" id=\"DejaVuSans-8722\"/>\r\n        <path d=\"M 10.796875 72.90625 \r\nL 49.515625 72.90625 \r\nL 49.515625 64.59375 \r\nL 19.828125 64.59375 \r\nL 19.828125 46.734375 \r\nQ 21.96875 47.46875 24.109375 47.828125 \r\nQ 26.265625 48.1875 28.421875 48.1875 \r\nQ 40.625 48.1875 47.75 41.5 \r\nQ 54.890625 34.8125 54.890625 23.390625 \r\nQ 54.890625 11.625 47.5625 5.09375 \r\nQ 40.234375 -1.421875 26.90625 -1.421875 \r\nQ 22.3125 -1.421875 17.546875 -0.640625 \r\nQ 12.796875 0.140625 7.71875 1.703125 \r\nL 7.71875 11.625 \r\nQ 12.109375 9.234375 16.796875 8.0625 \r\nQ 21.484375 6.890625 26.703125 6.890625 \r\nQ 35.15625 6.890625 40.078125 11.328125 \r\nQ 45.015625 15.765625 45.015625 23.390625 \r\nQ 45.015625 31 40.078125 35.4375 \r\nQ 35.15625 39.890625 26.703125 39.890625 \r\nQ 22.75 39.890625 18.8125 39.015625 \r\nQ 14.890625 38.140625 10.796875 36.28125 \r\nz\r\n\" id=\"DejaVuSans-53\"/>\r\n       </defs>\r\n       <use xlink:href=\"#DejaVuSans-8722\"/>\r\n       <use x=\"83.789062\" xlink:href=\"#DejaVuSans-53\"/>\r\n      </g>\r\n     </g>\r\n    </g>\r\n    <g id=\"xtick_2\">\r\n     <g id=\"line2d_2\">\r\n      <g>\r\n       <use style=\"stroke:#000000;stroke-width:0.8;\" x=\"107.910953\" xlink:href=\"#md6d3c2313f\" y=\"239.758125\"/>\r\n      </g>\r\n     </g>\r\n     <g id=\"text_2\">\r\n      <!-- 0 -->\r\n      <g transform=\"translate(104.729703 254.356563)scale(0.1 -0.1)\">\r\n       <defs>\r\n        <path d=\"M 31.78125 66.40625 \r\nQ 24.171875 66.40625 20.328125 58.90625 \r\nQ 16.5 51.421875 16.5 36.375 \r\nQ 16.5 21.390625 20.328125 13.890625 \r\nQ 24.171875 6.390625 31.78125 6.390625 \r\nQ 39.453125 6.390625 43.28125 13.890625 \r\nQ 47.125 21.390625 47.125 36.375 \r\nQ 47.125 51.421875 43.28125 58.90625 \r\nQ 39.453125 66.40625 31.78125 66.40625 \r\nz\r\nM 31.78125 74.21875 \r\nQ 44.046875 74.21875 50.515625 64.515625 \r\nQ 56.984375 54.828125 56.984375 36.375 \r\nQ 56.984375 17.96875 50.515625 8.265625 \r\nQ 44.046875 -1.421875 31.78125 -1.421875 \r\nQ 19.53125 -1.421875 13.0625 8.265625 \r\nQ 6.59375 17.96875 6.59375 36.375 \r\nQ 6.59375 54.828125 13.0625 64.515625 \r\nQ 19.53125 74.21875 31.78125 74.21875 \r\nz\r\n\" id=\"DejaVuSans-48\"/>\r\n       </defs>\r\n       <use xlink:href=\"#DejaVuSans-48\"/>\r\n      </g>\r\n     </g>\r\n    </g>\r\n    <g id=\"xtick_3\">\r\n     <g id=\"line2d_3\">\r\n      <g>\r\n       <use style=\"stroke:#000000;stroke-width:0.8;\" x=\"147.932967\" xlink:href=\"#md6d3c2313f\" y=\"239.758125\"/>\r\n      </g>\r\n     </g>\r\n     <g id=\"text_3\">\r\n      <!-- 5 -->\r\n      <g transform=\"translate(144.751717 254.356563)scale(0.1 -0.1)\">\r\n       <use xlink:href=\"#DejaVuSans-53\"/>\r\n      </g>\r\n     </g>\r\n    </g>\r\n    <g id=\"xtick_4\">\r\n     <g id=\"line2d_4\">\r\n      <g>\r\n       <use style=\"stroke:#000000;stroke-width:0.8;\" x=\"187.954982\" xlink:href=\"#md6d3c2313f\" y=\"239.758125\"/>\r\n      </g>\r\n     </g>\r\n     <g id=\"text_4\">\r\n      <!-- 10 -->\r\n      <g transform=\"translate(181.592482 254.356563)scale(0.1 -0.1)\">\r\n       <defs>\r\n        <path d=\"M 12.40625 8.296875 \r\nL 28.515625 8.296875 \r\nL 28.515625 63.921875 \r\nL 10.984375 60.40625 \r\nL 10.984375 69.390625 \r\nL 28.421875 72.90625 \r\nL 38.28125 72.90625 \r\nL 38.28125 8.296875 \r\nL 54.390625 8.296875 \r\nL 54.390625 0 \r\nL 12.40625 0 \r\nz\r\n\" id=\"DejaVuSans-49\"/>\r\n       </defs>\r\n       <use xlink:href=\"#DejaVuSans-49\"/>\r\n       <use x=\"63.623047\" xlink:href=\"#DejaVuSans-48\"/>\r\n      </g>\r\n     </g>\r\n    </g>\r\n    <g id=\"xtick_5\">\r\n     <g id=\"line2d_5\">\r\n      <g>\r\n       <use style=\"stroke:#000000;stroke-width:0.8;\" x=\"227.976996\" xlink:href=\"#md6d3c2313f\" y=\"239.758125\"/>\r\n      </g>\r\n     </g>\r\n     <g id=\"text_5\">\r\n      <!-- 15 -->\r\n      <g transform=\"translate(221.614496 254.356563)scale(0.1 -0.1)\">\r\n       <use xlink:href=\"#DejaVuSans-49\"/>\r\n       <use x=\"63.623047\" xlink:href=\"#DejaVuSans-53\"/>\r\n      </g>\r\n     </g>\r\n    </g>\r\n    <g id=\"xtick_6\">\r\n     <g id=\"line2d_6\">\r\n      <g>\r\n       <use style=\"stroke:#000000;stroke-width:0.8;\" x=\"267.999011\" xlink:href=\"#md6d3c2313f\" y=\"239.758125\"/>\r\n      </g>\r\n     </g>\r\n     <g id=\"text_6\">\r\n      <!-- 20 -->\r\n      <g transform=\"translate(261.636511 254.356563)scale(0.1 -0.1)\">\r\n       <defs>\r\n        <path d=\"M 19.1875 8.296875 \r\nL 53.609375 8.296875 \r\nL 53.609375 0 \r\nL 7.328125 0 \r\nL 7.328125 8.296875 \r\nQ 12.9375 14.109375 22.625 23.890625 \r\nQ 32.328125 33.6875 34.8125 36.53125 \r\nQ 39.546875 41.84375 41.421875 45.53125 \r\nQ 43.3125 49.21875 43.3125 52.78125 \r\nQ 43.3125 58.59375 39.234375 62.25 \r\nQ 35.15625 65.921875 28.609375 65.921875 \r\nQ 23.96875 65.921875 18.8125 64.3125 \r\nQ 13.671875 62.703125 7.8125 59.421875 \r\nL 7.8125 69.390625 \r\nQ 13.765625 71.78125 18.9375 73 \r\nQ 24.125 74.21875 28.421875 74.21875 \r\nQ 39.75 74.21875 46.484375 68.546875 \r\nQ 53.21875 62.890625 53.21875 53.421875 \r\nQ 53.21875 48.921875 51.53125 44.890625 \r\nQ 49.859375 40.875 45.40625 35.40625 \r\nQ 44.1875 33.984375 37.640625 27.21875 \r\nQ 31.109375 20.453125 19.1875 8.296875 \r\nz\r\n\" id=\"DejaVuSans-50\"/>\r\n       </defs>\r\n       <use xlink:href=\"#DejaVuSans-50\"/>\r\n       <use x=\"63.623047\" xlink:href=\"#DejaVuSans-48\"/>\r\n      </g>\r\n     </g>\r\n    </g>\r\n    <g id=\"xtick_7\">\r\n     <g id=\"line2d_7\">\r\n      <g>\r\n       <use style=\"stroke:#000000;stroke-width:0.8;\" x=\"308.021026\" xlink:href=\"#md6d3c2313f\" y=\"239.758125\"/>\r\n      </g>\r\n     </g>\r\n     <g id=\"text_7\">\r\n      <!-- 25 -->\r\n      <g transform=\"translate(301.658526 254.356563)scale(0.1 -0.1)\">\r\n       <use xlink:href=\"#DejaVuSans-50\"/>\r\n       <use x=\"63.623047\" xlink:href=\"#DejaVuSans-53\"/>\r\n      </g>\r\n     </g>\r\n    </g>\r\n    <g id=\"xtick_8\">\r\n     <g id=\"line2d_8\">\r\n      <g>\r\n       <use style=\"stroke:#000000;stroke-width:0.8;\" x=\"348.04304\" xlink:href=\"#md6d3c2313f\" y=\"239.758125\"/>\r\n      </g>\r\n     </g>\r\n     <g id=\"text_8\">\r\n      <!-- 30 -->\r\n      <g transform=\"translate(341.68054 254.356563)scale(0.1 -0.1)\">\r\n       <defs>\r\n        <path d=\"M 40.578125 39.3125 \r\nQ 47.65625 37.796875 51.625 33 \r\nQ 55.609375 28.21875 55.609375 21.1875 \r\nQ 55.609375 10.40625 48.1875 4.484375 \r\nQ 40.765625 -1.421875 27.09375 -1.421875 \r\nQ 22.515625 -1.421875 17.65625 -0.515625 \r\nQ 12.796875 0.390625 7.625 2.203125 \r\nL 7.625 11.71875 \r\nQ 11.71875 9.328125 16.59375 8.109375 \r\nQ 21.484375 6.890625 26.8125 6.890625 \r\nQ 36.078125 6.890625 40.9375 10.546875 \r\nQ 45.796875 14.203125 45.796875 21.1875 \r\nQ 45.796875 27.640625 41.28125 31.265625 \r\nQ 36.765625 34.90625 28.71875 34.90625 \r\nL 20.21875 34.90625 \r\nL 20.21875 43.015625 \r\nL 29.109375 43.015625 \r\nQ 36.375 43.015625 40.234375 45.921875 \r\nQ 44.09375 48.828125 44.09375 54.296875 \r\nQ 44.09375 59.90625 40.109375 62.90625 \r\nQ 36.140625 65.921875 28.71875 65.921875 \r\nQ 24.65625 65.921875 20.015625 65.03125 \r\nQ 15.375 64.15625 9.8125 62.3125 \r\nL 9.8125 71.09375 \r\nQ 15.4375 72.65625 20.34375 73.4375 \r\nQ 25.25 74.21875 29.59375 74.21875 \r\nQ 40.828125 74.21875 47.359375 69.109375 \r\nQ 53.90625 64.015625 53.90625 55.328125 \r\nQ 53.90625 49.265625 50.4375 45.09375 \r\nQ 46.96875 40.921875 40.578125 39.3125 \r\nz\r\n\" id=\"DejaVuSans-51\"/>\r\n       </defs>\r\n       <use xlink:href=\"#DejaVuSans-51\"/>\r\n       <use x=\"63.623047\" xlink:href=\"#DejaVuSans-48\"/>\r\n      </g>\r\n     </g>\r\n    </g>\r\n   </g>\r\n   <g id=\"matplotlib.axis_2\">\r\n    <g id=\"ytick_1\">\r\n     <g id=\"line2d_9\">\r\n      <defs>\r\n       <path d=\"M 0 0 \r\nL -3.5 0 \r\n\" id=\"m300134dd2b\" style=\"stroke:#000000;stroke-width:0.8;\"/>\r\n      </defs>\r\n      <g>\r\n       <use style=\"stroke:#000000;stroke-width:0.8;\" x=\"36.465625\" xlink:href=\"#m300134dd2b\" y=\"229.874489\"/>\r\n      </g>\r\n     </g>\r\n     <g id=\"text_9\">\r\n      <!-- 0.00 -->\r\n      <g transform=\"translate(7.2 233.673707)scale(0.1 -0.1)\">\r\n       <defs>\r\n        <path d=\"M 10.6875 12.40625 \r\nL 21 12.40625 \r\nL 21 0 \r\nL 10.6875 0 \r\nz\r\n\" id=\"DejaVuSans-46\"/>\r\n       </defs>\r\n       <use xlink:href=\"#DejaVuSans-48\"/>\r\n       <use x=\"63.623047\" xlink:href=\"#DejaVuSans-46\"/>\r\n       <use x=\"95.410156\" xlink:href=\"#DejaVuSans-48\"/>\r\n       <use x=\"159.033203\" xlink:href=\"#DejaVuSans-48\"/>\r\n      </g>\r\n     </g>\r\n    </g>\r\n    <g id=\"ytick_2\">\r\n     <g id=\"line2d_10\">\r\n      <g>\r\n       <use style=\"stroke:#000000;stroke-width:0.8;\" x=\"36.465625\" xlink:href=\"#m300134dd2b\" y=\"202.048768\"/>\r\n      </g>\r\n     </g>\r\n     <g id=\"text_10\">\r\n      <!-- 0.02 -->\r\n      <g transform=\"translate(7.2 205.847987)scale(0.1 -0.1)\">\r\n       <use xlink:href=\"#DejaVuSans-48\"/>\r\n       <use x=\"63.623047\" xlink:href=\"#DejaVuSans-46\"/>\r\n       <use x=\"95.410156\" xlink:href=\"#DejaVuSans-48\"/>\r\n       <use x=\"159.033203\" xlink:href=\"#DejaVuSans-50\"/>\r\n      </g>\r\n     </g>\r\n    </g>\r\n    <g id=\"ytick_3\">\r\n     <g id=\"line2d_11\">\r\n      <g>\r\n       <use style=\"stroke:#000000;stroke-width:0.8;\" x=\"36.465625\" xlink:href=\"#m300134dd2b\" y=\"174.223048\"/>\r\n      </g>\r\n     </g>\r\n     <g id=\"text_11\">\r\n      <!-- 0.04 -->\r\n      <g transform=\"translate(7.2 178.022266)scale(0.1 -0.1)\">\r\n       <defs>\r\n        <path d=\"M 37.796875 64.3125 \r\nL 12.890625 25.390625 \r\nL 37.796875 25.390625 \r\nz\r\nM 35.203125 72.90625 \r\nL 47.609375 72.90625 \r\nL 47.609375 25.390625 \r\nL 58.015625 25.390625 \r\nL 58.015625 17.1875 \r\nL 47.609375 17.1875 \r\nL 47.609375 0 \r\nL 37.796875 0 \r\nL 37.796875 17.1875 \r\nL 4.890625 17.1875 \r\nL 4.890625 26.703125 \r\nz\r\n\" id=\"DejaVuSans-52\"/>\r\n       </defs>\r\n       <use xlink:href=\"#DejaVuSans-48\"/>\r\n       <use x=\"63.623047\" xlink:href=\"#DejaVuSans-46\"/>\r\n       <use x=\"95.410156\" xlink:href=\"#DejaVuSans-48\"/>\r\n       <use x=\"159.033203\" xlink:href=\"#DejaVuSans-52\"/>\r\n      </g>\r\n     </g>\r\n    </g>\r\n    <g id=\"ytick_4\">\r\n     <g id=\"line2d_12\">\r\n      <g>\r\n       <use style=\"stroke:#000000;stroke-width:0.8;\" x=\"36.465625\" xlink:href=\"#m300134dd2b\" y=\"146.397327\"/>\r\n      </g>\r\n     </g>\r\n     <g id=\"text_12\">\r\n      <!-- 0.06 -->\r\n      <g transform=\"translate(7.2 150.196546)scale(0.1 -0.1)\">\r\n       <defs>\r\n        <path d=\"M 33.015625 40.375 \r\nQ 26.375 40.375 22.484375 35.828125 \r\nQ 18.609375 31.296875 18.609375 23.390625 \r\nQ 18.609375 15.53125 22.484375 10.953125 \r\nQ 26.375 6.390625 33.015625 6.390625 \r\nQ 39.65625 6.390625 43.53125 10.953125 \r\nQ 47.40625 15.53125 47.40625 23.390625 \r\nQ 47.40625 31.296875 43.53125 35.828125 \r\nQ 39.65625 40.375 33.015625 40.375 \r\nz\r\nM 52.59375 71.296875 \r\nL 52.59375 62.3125 \r\nQ 48.875 64.0625 45.09375 64.984375 \r\nQ 41.3125 65.921875 37.59375 65.921875 \r\nQ 27.828125 65.921875 22.671875 59.328125 \r\nQ 17.53125 52.734375 16.796875 39.40625 \r\nQ 19.671875 43.65625 24.015625 45.921875 \r\nQ 28.375 48.1875 33.59375 48.1875 \r\nQ 44.578125 48.1875 50.953125 41.515625 \r\nQ 57.328125 34.859375 57.328125 23.390625 \r\nQ 57.328125 12.15625 50.6875 5.359375 \r\nQ 44.046875 -1.421875 33.015625 -1.421875 \r\nQ 20.359375 -1.421875 13.671875 8.265625 \r\nQ 6.984375 17.96875 6.984375 36.375 \r\nQ 6.984375 53.65625 15.1875 63.9375 \r\nQ 23.390625 74.21875 37.203125 74.21875 \r\nQ 40.921875 74.21875 44.703125 73.484375 \r\nQ 48.484375 72.75 52.59375 71.296875 \r\nz\r\n\" id=\"DejaVuSans-54\"/>\r\n       </defs>\r\n       <use xlink:href=\"#DejaVuSans-48\"/>\r\n       <use x=\"63.623047\" xlink:href=\"#DejaVuSans-46\"/>\r\n       <use x=\"95.410156\" xlink:href=\"#DejaVuSans-48\"/>\r\n       <use x=\"159.033203\" xlink:href=\"#DejaVuSans-54\"/>\r\n      </g>\r\n     </g>\r\n    </g>\r\n    <g id=\"ytick_5\">\r\n     <g id=\"line2d_13\">\r\n      <g>\r\n       <use style=\"stroke:#000000;stroke-width:0.8;\" x=\"36.465625\" xlink:href=\"#m300134dd2b\" y=\"118.571607\"/>\r\n      </g>\r\n     </g>\r\n     <g id=\"text_13\">\r\n      <!-- 0.08 -->\r\n      <g transform=\"translate(7.2 122.370825)scale(0.1 -0.1)\">\r\n       <defs>\r\n        <path d=\"M 31.78125 34.625 \r\nQ 24.75 34.625 20.71875 30.859375 \r\nQ 16.703125 27.09375 16.703125 20.515625 \r\nQ 16.703125 13.921875 20.71875 10.15625 \r\nQ 24.75 6.390625 31.78125 6.390625 \r\nQ 38.8125 6.390625 42.859375 10.171875 \r\nQ 46.921875 13.96875 46.921875 20.515625 \r\nQ 46.921875 27.09375 42.890625 30.859375 \r\nQ 38.875 34.625 31.78125 34.625 \r\nz\r\nM 21.921875 38.8125 \r\nQ 15.578125 40.375 12.03125 44.71875 \r\nQ 8.5 49.078125 8.5 55.328125 \r\nQ 8.5 64.0625 14.71875 69.140625 \r\nQ 20.953125 74.21875 31.78125 74.21875 \r\nQ 42.671875 74.21875 48.875 69.140625 \r\nQ 55.078125 64.0625 55.078125 55.328125 \r\nQ 55.078125 49.078125 51.53125 44.71875 \r\nQ 48 40.375 41.703125 38.8125 \r\nQ 48.828125 37.15625 52.796875 32.3125 \r\nQ 56.78125 27.484375 56.78125 20.515625 \r\nQ 56.78125 9.90625 50.3125 4.234375 \r\nQ 43.84375 -1.421875 31.78125 -1.421875 \r\nQ 19.734375 -1.421875 13.25 4.234375 \r\nQ 6.78125 9.90625 6.78125 20.515625 \r\nQ 6.78125 27.484375 10.78125 32.3125 \r\nQ 14.796875 37.15625 21.921875 38.8125 \r\nz\r\nM 18.3125 54.390625 \r\nQ 18.3125 48.734375 21.84375 45.5625 \r\nQ 25.390625 42.390625 31.78125 42.390625 \r\nQ 38.140625 42.390625 41.71875 45.5625 \r\nQ 45.3125 48.734375 45.3125 54.390625 \r\nQ 45.3125 60.0625 41.71875 63.234375 \r\nQ 38.140625 66.40625 31.78125 66.40625 \r\nQ 25.390625 66.40625 21.84375 63.234375 \r\nQ 18.3125 60.0625 18.3125 54.390625 \r\nz\r\n\" id=\"DejaVuSans-56\"/>\r\n       </defs>\r\n       <use xlink:href=\"#DejaVuSans-48\"/>\r\n       <use x=\"63.623047\" xlink:href=\"#DejaVuSans-46\"/>\r\n       <use x=\"95.410156\" xlink:href=\"#DejaVuSans-48\"/>\r\n       <use x=\"159.033203\" xlink:href=\"#DejaVuSans-56\"/>\r\n      </g>\r\n     </g>\r\n    </g>\r\n    <g id=\"ytick_6\">\r\n     <g id=\"line2d_14\">\r\n      <g>\r\n       <use style=\"stroke:#000000;stroke-width:0.8;\" x=\"36.465625\" xlink:href=\"#m300134dd2b\" y=\"90.745886\"/>\r\n      </g>\r\n     </g>\r\n     <g id=\"text_14\">\r\n      <!-- 0.10 -->\r\n      <g transform=\"translate(7.2 94.545105)scale(0.1 -0.1)\">\r\n       <use xlink:href=\"#DejaVuSans-48\"/>\r\n       <use x=\"63.623047\" xlink:href=\"#DejaVuSans-46\"/>\r\n       <use x=\"95.410156\" xlink:href=\"#DejaVuSans-49\"/>\r\n       <use x=\"159.033203\" xlink:href=\"#DejaVuSans-48\"/>\r\n      </g>\r\n     </g>\r\n    </g>\r\n    <g id=\"ytick_7\">\r\n     <g id=\"line2d_15\">\r\n      <g>\r\n       <use style=\"stroke:#000000;stroke-width:0.8;\" x=\"36.465625\" xlink:href=\"#m300134dd2b\" y=\"62.920166\"/>\r\n      </g>\r\n     </g>\r\n     <g id=\"text_15\">\r\n      <!-- 0.12 -->\r\n      <g transform=\"translate(7.2 66.719384)scale(0.1 -0.1)\">\r\n       <use xlink:href=\"#DejaVuSans-48\"/>\r\n       <use x=\"63.623047\" xlink:href=\"#DejaVuSans-46\"/>\r\n       <use x=\"95.410156\" xlink:href=\"#DejaVuSans-49\"/>\r\n       <use x=\"159.033203\" xlink:href=\"#DejaVuSans-50\"/>\r\n      </g>\r\n     </g>\r\n    </g>\r\n    <g id=\"ytick_8\">\r\n     <g id=\"line2d_16\">\r\n      <g>\r\n       <use style=\"stroke:#000000;stroke-width:0.8;\" x=\"36.465625\" xlink:href=\"#m300134dd2b\" y=\"35.094445\"/>\r\n      </g>\r\n     </g>\r\n     <g id=\"text_16\">\r\n      <!-- 0.14 -->\r\n      <g transform=\"translate(7.2 38.893664)scale(0.1 -0.1)\">\r\n       <use xlink:href=\"#DejaVuSans-48\"/>\r\n       <use x=\"63.623047\" xlink:href=\"#DejaVuSans-46\"/>\r\n       <use x=\"95.410156\" xlink:href=\"#DejaVuSans-49\"/>\r\n       <use x=\"159.033203\" xlink:href=\"#DejaVuSans-52\"/>\r\n      </g>\r\n     </g>\r\n    </g>\r\n   </g>\r\n   <g id=\"line2d_17\">\r\n    <path clip-path=\"url(#p0f7e04b820)\" d=\"M 51.683807 227.479872 \r\nL 54.392914 225.948271 \r\nL 55.580051 225.000097 \r\nL 58.289158 221.920152 \r\nL 59.384977 220.202481 \r\nL 60.480796 218.160092 \r\nL 61.607054 215.682872 \r\nL 62.82463 212.562253 \r\nL 64.742313 206.545504 \r\nL 66.142525 201.323885 \r\nL 67.664496 194.869945 \r\nL 69.338663 186.87934 \r\nL 71.347664 176.326198 \r\nL 75.609181 152.08061 \r\nL 78.287849 137.183377 \r\nL 80.418608 126.501074 \r\nL 81.910139 119.940151 \r\nL 83.37123 114.461072 \r\nL 84.741003 110.232136 \r\nL 86.049898 107.03606 \r\nL 86.719565 105.742982 \r\nL 87.784944 104.170937 \r\nL 88.789445 103.189963 \r\nL 89.733066 102.676123 \r\nL 90.402733 102.513778 \r\nL 91.559431 102.542143 \r\nL 92.137779 102.655987 \r\nL 94.846887 103.383816 \r\nL 95.516554 103.375175 \r\nL 96.2471 103.222175 \r\nL 97.099403 102.718342 \r\nL 97.76907 102.053395 \r\nL 98.621373 100.779585 \r\nL 99.351919 99.271663 \r\nL 100.143344 97.171875 \r\nL 101.026087 94.242562 \r\nL 102.061026 90.064441 \r\nL 103.278603 84.157714 \r\nL 104.770134 75.71053 \r\nL 107.905393 56.252325 \r\nL 108.422863 53.095123 \r\nL 109.944833 44.778951 \r\nL 111.071091 39.725704 \r\nL 112.014713 36.376473 \r\nL 112.806137 34.288683 \r\nL 113.475804 33.065614 \r\nL 114.20635 32.34445 \r\nL 114.754259 32.204972 \r\nL 115.180411 32.334773 \r\nL 115.75876 32.84789 \r\nL 116.671942 34.319436 \r\nL 117.493806 36.455039 \r\nL 118.467867 39.819331 \r\nL 119.502807 44.253644 \r\nL 120.750823 50.61191 \r\nL 122.333672 59.820358 \r\nL 125.255855 78.349369 \r\nL 128.57375 98.966026 \r\nL 130.674069 110.587324 \r\nL 132.71351 120.353144 \r\nL 134.296359 126.965245 \r\nL 136.122723 133.44806 \r\nL 137.888209 138.67679 \r\nL 139.288422 142.229669 \r\nL 140.688635 145.174018 \r\nL 142.575878 148.579923 \r\nL 144.676197 151.691275 \r\nL 147.446183 155.130738 \r\nL 156.060535 165.002156 \r\nL 158.37393 167.977297 \r\nL 160.474249 170.963427 \r\nL 162.452811 174.088228 \r\nL 164.187857 177.182374 \r\nL 166.227298 181.048485 \r\nL 168.875526 186.550462 \r\nL 174.628574 198.560301 \r\nL 177.002848 202.821829 \r\nL 179.164046 206.210059 \r\nL 181.53832 209.478766 \r\nL 184.034351 212.390529 \r\nL 186.986973 215.472215 \r\nL 190.76146 219.053592 \r\nL 194.018477 221.754174 \r\nL 196.849342 223.776061 \r\nL 199.254055 225.125976 \r\nL 201.689207 226.235248 \r\nL 204.672269 227.313739 \r\nL 208.172801 228.229712 \r\nL 211.82553 228.95639 \r\nL 215.478259 229.444508 \r\nL 219.465821 229.723588 \r\nL 224.853597 229.851092 \r\nL 239.829785 229.874489 \r\nL 356.047443 229.874489 \r\nL 356.047443 229.874489 \r\n\" style=\"fill:none;stroke:#0000ff;stroke-linecap:square;stroke-width:1.5;\"/>\r\n   </g>\r\n   <g id=\"line2d_18\">\r\n    <path clip-path=\"url(#p0f7e04b820)\" d=\"M 51.683807 229.645085 \r\nL 65.990328 229.337728 \r\nL 73.174029 228.925485 \r\nL 80.509926 228.28373 \r\nL 86.415171 227.553723 \r\nL 92.137779 226.613707 \r\nL 101.391359 225.061789 \r\nL 105.378922 224.662853 \r\nL 110.218788 224.423726 \r\nL 116.428427 224.090415 \r\nL 119.928959 223.663085 \r\nL 123.277293 223.027908 \r\nL 126.808265 222.127281 \r\nL 130.582751 220.93159 \r\nL 134.418117 219.483415 \r\nL 138.131724 217.845846 \r\nL 141.693135 216.034839 \r\nL 145.01103 214.102626 \r\nL 148.024532 212.095082 \r\nL 150.764078 210.004798 \r\nL 153.290549 207.798817 \r\nL 155.695263 205.40539 \r\nL 158.069536 202.726067 \r\nL 160.474249 199.668887 \r\nL 162.939842 196.165418 \r\nL 165.527191 192.090881 \r\nL 168.236298 187.402056 \r\nL 171.097603 181.996886 \r\nL 174.050225 175.934524 \r\nL 177.002848 169.359171 \r\nL 179.98591 162.16288 \r\nL 183.151608 153.925611 \r\nL 187.839277 140.999434 \r\nL 191.187612 132.063691 \r\nL 193.166173 127.384139 \r\nL 194.718583 124.243283 \r\nL 196.027478 122.066668 \r\nL 197.153736 120.601298 \r\nL 198.127797 119.673486 \r\nL 199.010539 119.125953 \r\nL 199.801964 118.884543 \r\nL 200.562949 118.882558 \r\nL 201.323934 119.11101 \r\nL 202.115359 119.59555 \r\nL 202.967662 120.398658 \r\nL 203.880845 121.578228 \r\nL 204.915785 123.301562 \r\nL 206.072482 125.686881 \r\nL 207.381377 128.918907 \r\nL 208.933786 133.383268 \r\nL 210.851469 139.629477 \r\nL 213.682334 149.706782 \r\nL 218.309124 166.143555 \r\nL 220.622519 173.51069 \r\nL 222.63152 179.200823 \r\nL 224.488324 183.818478 \r\nL 226.253809 187.631092 \r\nL 227.958416 190.794641 \r\nL 229.602144 193.391277 \r\nL 231.215433 195.538659 \r\nL 232.828721 197.32318 \r\nL 234.44201 198.780535 \r\nL 236.085738 199.966151 \r\nL 237.759905 200.90202 \r\nL 239.525391 201.634543 \r\nL 241.443074 202.18438 \r\nL 243.573832 202.556802 \r\nL 246.039424 202.755494 \r\nL 249.174683 202.773909 \r\nL 255.627838 202.519361 \r\nL 259.737158 202.495149 \r\nL 262.902856 202.69763 \r\nL 265.885918 203.113643 \r\nL 268.990738 203.777227 \r\nL 272.613027 204.788988 \r\nL 277.848605 206.506171 \r\nL 285.488896 209.246939 \r\nL 291.424581 211.608638 \r\nL 303.691662 216.606653 \r\nL 307.070436 217.652251 \r\nL 310.449211 218.46287 \r\nL 315.197758 219.342645 \r\nL 320.068063 220.311987 \r\nL 323.355519 221.200788 \r\nL 326.856051 222.387975 \r\nL 337.69248 226.257023 \r\nL 340.827739 227.011327 \r\nL 344.176074 227.582394 \r\nL 348.376712 228.058436 \r\nL 356.047443 228.693092 \r\nL 356.047443 228.693092 \r\n\" style=\"fill:none;stroke:#ff0000;stroke-linecap:square;stroke-width:1.5;\"/>\r\n   </g>\r\n   <g id=\"patch_3\">\r\n    <path d=\"M 36.465625 239.758125 \r\nL 36.465625 22.318125 \r\n\" style=\"fill:none;stroke:#000000;stroke-linecap:square;stroke-linejoin:miter;stroke-width:0.8;\"/>\r\n   </g>\r\n   <g id=\"patch_4\">\r\n    <path d=\"M 371.265625 239.758125 \r\nL 371.265625 22.318125 \r\n\" style=\"fill:none;stroke:#000000;stroke-linecap:square;stroke-linejoin:miter;stroke-width:0.8;\"/>\r\n   </g>\r\n   <g id=\"patch_5\">\r\n    <path d=\"M 36.465625 239.758125 \r\nL 371.265625 239.758125 \r\n\" style=\"fill:none;stroke:#000000;stroke-linecap:square;stroke-linejoin:miter;stroke-width:0.8;\"/>\r\n   </g>\r\n   <g id=\"patch_6\">\r\n    <path d=\"M 36.465625 22.318125 \r\nL 371.265625 22.318125 \r\n\" style=\"fill:none;stroke:#000000;stroke-linecap:square;stroke-linejoin:miter;stroke-width:0.8;\"/>\r\n   </g>\r\n   <g id=\"text_17\">\r\n    <!-- Estimated Distributions -->\r\n    <g transform=\"translate(133.520313 16.318125)scale(0.12 -0.12)\">\r\n     <defs>\r\n      <path d=\"M 9.8125 72.90625 \r\nL 55.90625 72.90625 \r\nL 55.90625 64.59375 \r\nL 19.671875 64.59375 \r\nL 19.671875 43.015625 \r\nL 54.390625 43.015625 \r\nL 54.390625 34.71875 \r\nL 19.671875 34.71875 \r\nL 19.671875 8.296875 \r\nL 56.78125 8.296875 \r\nL 56.78125 0 \r\nL 9.8125 0 \r\nz\r\n\" id=\"DejaVuSans-69\"/>\r\n      <path d=\"M 44.28125 53.078125 \r\nL 44.28125 44.578125 \r\nQ 40.484375 46.53125 36.375 47.5 \r\nQ 32.28125 48.484375 27.875 48.484375 \r\nQ 21.1875 48.484375 17.84375 46.4375 \r\nQ 14.5 44.390625 14.5 40.28125 \r\nQ 14.5 37.15625 16.890625 35.375 \r\nQ 19.28125 33.59375 26.515625 31.984375 \r\nL 29.59375 31.296875 \r\nQ 39.15625 29.25 43.1875 25.515625 \r\nQ 47.21875 21.78125 47.21875 15.09375 \r\nQ 47.21875 7.46875 41.1875 3.015625 \r\nQ 35.15625 -1.421875 24.609375 -1.421875 \r\nQ 20.21875 -1.421875 15.453125 -0.5625 \r\nQ 10.6875 0.296875 5.421875 2 \r\nL 5.421875 11.28125 \r\nQ 10.40625 8.6875 15.234375 7.390625 \r\nQ 20.0625 6.109375 24.8125 6.109375 \r\nQ 31.15625 6.109375 34.5625 8.28125 \r\nQ 37.984375 10.453125 37.984375 14.40625 \r\nQ 37.984375 18.0625 35.515625 20.015625 \r\nQ 33.0625 21.96875 24.703125 23.78125 \r\nL 21.578125 24.515625 \r\nQ 13.234375 26.265625 9.515625 29.90625 \r\nQ 5.8125 33.546875 5.8125 39.890625 \r\nQ 5.8125 47.609375 11.28125 51.796875 \r\nQ 16.75 56 26.8125 56 \r\nQ 31.78125 56 36.171875 55.265625 \r\nQ 40.578125 54.546875 44.28125 53.078125 \r\nz\r\n\" id=\"DejaVuSans-115\"/>\r\n      <path d=\"M 18.3125 70.21875 \r\nL 18.3125 54.6875 \r\nL 36.8125 54.6875 \r\nL 36.8125 47.703125 \r\nL 18.3125 47.703125 \r\nL 18.3125 18.015625 \r\nQ 18.3125 11.328125 20.140625 9.421875 \r\nQ 21.96875 7.515625 27.59375 7.515625 \r\nL 36.8125 7.515625 \r\nL 36.8125 0 \r\nL 27.59375 0 \r\nQ 17.1875 0 13.234375 3.875 \r\nQ 9.28125 7.765625 9.28125 18.015625 \r\nL 9.28125 47.703125 \r\nL 2.6875 47.703125 \r\nL 2.6875 54.6875 \r\nL 9.28125 54.6875 \r\nL 9.28125 70.21875 \r\nz\r\n\" id=\"DejaVuSans-116\"/>\r\n      <path d=\"M 9.421875 54.6875 \r\nL 18.40625 54.6875 \r\nL 18.40625 0 \r\nL 9.421875 0 \r\nz\r\nM 9.421875 75.984375 \r\nL 18.40625 75.984375 \r\nL 18.40625 64.59375 \r\nL 9.421875 64.59375 \r\nz\r\n\" id=\"DejaVuSans-105\"/>\r\n      <path d=\"M 52 44.1875 \r\nQ 55.375 50.25 60.0625 53.125 \r\nQ 64.75 56 71.09375 56 \r\nQ 79.640625 56 84.28125 50.015625 \r\nQ 88.921875 44.046875 88.921875 33.015625 \r\nL 88.921875 0 \r\nL 79.890625 0 \r\nL 79.890625 32.71875 \r\nQ 79.890625 40.578125 77.09375 44.375 \r\nQ 74.3125 48.1875 68.609375 48.1875 \r\nQ 61.625 48.1875 57.5625 43.546875 \r\nQ 53.515625 38.921875 53.515625 30.90625 \r\nL 53.515625 0 \r\nL 44.484375 0 \r\nL 44.484375 32.71875 \r\nQ 44.484375 40.625 41.703125 44.40625 \r\nQ 38.921875 48.1875 33.109375 48.1875 \r\nQ 26.21875 48.1875 22.15625 43.53125 \r\nQ 18.109375 38.875 18.109375 30.90625 \r\nL 18.109375 0 \r\nL 9.078125 0 \r\nL 9.078125 54.6875 \r\nL 18.109375 54.6875 \r\nL 18.109375 46.1875 \r\nQ 21.1875 51.21875 25.484375 53.609375 \r\nQ 29.78125 56 35.6875 56 \r\nQ 41.65625 56 45.828125 52.96875 \r\nQ 50 49.953125 52 44.1875 \r\nz\r\n\" id=\"DejaVuSans-109\"/>\r\n      <path d=\"M 34.28125 27.484375 \r\nQ 23.390625 27.484375 19.1875 25 \r\nQ 14.984375 22.515625 14.984375 16.5 \r\nQ 14.984375 11.71875 18.140625 8.90625 \r\nQ 21.296875 6.109375 26.703125 6.109375 \r\nQ 34.1875 6.109375 38.703125 11.40625 \r\nQ 43.21875 16.703125 43.21875 25.484375 \r\nL 43.21875 27.484375 \r\nz\r\nM 52.203125 31.203125 \r\nL 52.203125 0 \r\nL 43.21875 0 \r\nL 43.21875 8.296875 \r\nQ 40.140625 3.328125 35.546875 0.953125 \r\nQ 30.953125 -1.421875 24.3125 -1.421875 \r\nQ 15.921875 -1.421875 10.953125 3.296875 \r\nQ 6 8.015625 6 15.921875 \r\nQ 6 25.140625 12.171875 29.828125 \r\nQ 18.359375 34.515625 30.609375 34.515625 \r\nL 43.21875 34.515625 \r\nL 43.21875 35.40625 \r\nQ 43.21875 41.609375 39.140625 45 \r\nQ 35.0625 48.390625 27.6875 48.390625 \r\nQ 23 48.390625 18.546875 47.265625 \r\nQ 14.109375 46.140625 10.015625 43.890625 \r\nL 10.015625 52.203125 \r\nQ 14.9375 54.109375 19.578125 55.046875 \r\nQ 24.21875 56 28.609375 56 \r\nQ 40.484375 56 46.34375 49.84375 \r\nQ 52.203125 43.703125 52.203125 31.203125 \r\nz\r\n\" id=\"DejaVuSans-97\"/>\r\n      <path d=\"M 56.203125 29.59375 \r\nL 56.203125 25.203125 \r\nL 14.890625 25.203125 \r\nQ 15.484375 15.921875 20.484375 11.0625 \r\nQ 25.484375 6.203125 34.421875 6.203125 \r\nQ 39.59375 6.203125 44.453125 7.46875 \r\nQ 49.3125 8.734375 54.109375 11.28125 \r\nL 54.109375 2.78125 \r\nQ 49.265625 0.734375 44.1875 -0.34375 \r\nQ 39.109375 -1.421875 33.890625 -1.421875 \r\nQ 20.796875 -1.421875 13.15625 6.1875 \r\nQ 5.515625 13.8125 5.515625 26.8125 \r\nQ 5.515625 40.234375 12.765625 48.109375 \r\nQ 20.015625 56 32.328125 56 \r\nQ 43.359375 56 49.78125 48.890625 \r\nQ 56.203125 41.796875 56.203125 29.59375 \r\nz\r\nM 47.21875 32.234375 \r\nQ 47.125 39.59375 43.09375 43.984375 \r\nQ 39.0625 48.390625 32.421875 48.390625 \r\nQ 24.90625 48.390625 20.390625 44.140625 \r\nQ 15.875 39.890625 15.1875 32.171875 \r\nz\r\n\" id=\"DejaVuSans-101\"/>\r\n      <path d=\"M 45.40625 46.390625 \r\nL 45.40625 75.984375 \r\nL 54.390625 75.984375 \r\nL 54.390625 0 \r\nL 45.40625 0 \r\nL 45.40625 8.203125 \r\nQ 42.578125 3.328125 38.25 0.953125 \r\nQ 33.9375 -1.421875 27.875 -1.421875 \r\nQ 17.96875 -1.421875 11.734375 6.484375 \r\nQ 5.515625 14.40625 5.515625 27.296875 \r\nQ 5.515625 40.1875 11.734375 48.09375 \r\nQ 17.96875 56 27.875 56 \r\nQ 33.9375 56 38.25 53.625 \r\nQ 42.578125 51.265625 45.40625 46.390625 \r\nz\r\nM 14.796875 27.296875 \r\nQ 14.796875 17.390625 18.875 11.75 \r\nQ 22.953125 6.109375 30.078125 6.109375 \r\nQ 37.203125 6.109375 41.296875 11.75 \r\nQ 45.40625 17.390625 45.40625 27.296875 \r\nQ 45.40625 37.203125 41.296875 42.84375 \r\nQ 37.203125 48.484375 30.078125 48.484375 \r\nQ 22.953125 48.484375 18.875 42.84375 \r\nQ 14.796875 37.203125 14.796875 27.296875 \r\nz\r\n\" id=\"DejaVuSans-100\"/>\r\n      <path id=\"DejaVuSans-32\"/>\r\n      <path d=\"M 19.671875 64.796875 \r\nL 19.671875 8.109375 \r\nL 31.59375 8.109375 \r\nQ 46.6875 8.109375 53.6875 14.9375 \r\nQ 60.6875 21.78125 60.6875 36.53125 \r\nQ 60.6875 51.171875 53.6875 57.984375 \r\nQ 46.6875 64.796875 31.59375 64.796875 \r\nz\r\nM 9.8125 72.90625 \r\nL 30.078125 72.90625 \r\nQ 51.265625 72.90625 61.171875 64.09375 \r\nQ 71.09375 55.28125 71.09375 36.53125 \r\nQ 71.09375 17.671875 61.125 8.828125 \r\nQ 51.171875 0 30.078125 0 \r\nL 9.8125 0 \r\nz\r\n\" id=\"DejaVuSans-68\"/>\r\n      <path d=\"M 41.109375 46.296875 \r\nQ 39.59375 47.171875 37.8125 47.578125 \r\nQ 36.03125 48 33.890625 48 \r\nQ 26.265625 48 22.1875 43.046875 \r\nQ 18.109375 38.09375 18.109375 28.8125 \r\nL 18.109375 0 \r\nL 9.078125 0 \r\nL 9.078125 54.6875 \r\nL 18.109375 54.6875 \r\nL 18.109375 46.1875 \r\nQ 20.953125 51.171875 25.484375 53.578125 \r\nQ 30.03125 56 36.53125 56 \r\nQ 37.453125 56 38.578125 55.875 \r\nQ 39.703125 55.765625 41.0625 55.515625 \r\nz\r\n\" id=\"DejaVuSans-114\"/>\r\n      <path d=\"M 48.6875 27.296875 \r\nQ 48.6875 37.203125 44.609375 42.84375 \r\nQ 40.53125 48.484375 33.40625 48.484375 \r\nQ 26.265625 48.484375 22.1875 42.84375 \r\nQ 18.109375 37.203125 18.109375 27.296875 \r\nQ 18.109375 17.390625 22.1875 11.75 \r\nQ 26.265625 6.109375 33.40625 6.109375 \r\nQ 40.53125 6.109375 44.609375 11.75 \r\nQ 48.6875 17.390625 48.6875 27.296875 \r\nz\r\nM 18.109375 46.390625 \r\nQ 20.953125 51.265625 25.265625 53.625 \r\nQ 29.59375 56 35.59375 56 \r\nQ 45.5625 56 51.78125 48.09375 \r\nQ 58.015625 40.1875 58.015625 27.296875 \r\nQ 58.015625 14.40625 51.78125 6.484375 \r\nQ 45.5625 -1.421875 35.59375 -1.421875 \r\nQ 29.59375 -1.421875 25.265625 0.953125 \r\nQ 20.953125 3.328125 18.109375 8.203125 \r\nL 18.109375 0 \r\nL 9.078125 0 \r\nL 9.078125 75.984375 \r\nL 18.109375 75.984375 \r\nz\r\n\" id=\"DejaVuSans-98\"/>\r\n      <path d=\"M 8.5 21.578125 \r\nL 8.5 54.6875 \r\nL 17.484375 54.6875 \r\nL 17.484375 21.921875 \r\nQ 17.484375 14.15625 20.5 10.265625 \r\nQ 23.53125 6.390625 29.59375 6.390625 \r\nQ 36.859375 6.390625 41.078125 11.03125 \r\nQ 45.3125 15.671875 45.3125 23.6875 \r\nL 45.3125 54.6875 \r\nL 54.296875 54.6875 \r\nL 54.296875 0 \r\nL 45.3125 0 \r\nL 45.3125 8.40625 \r\nQ 42.046875 3.421875 37.71875 1 \r\nQ 33.40625 -1.421875 27.6875 -1.421875 \r\nQ 18.265625 -1.421875 13.375 4.4375 \r\nQ 8.5 10.296875 8.5 21.578125 \r\nz\r\nM 31.109375 56 \r\nz\r\n\" id=\"DejaVuSans-117\"/>\r\n      <path d=\"M 30.609375 48.390625 \r\nQ 23.390625 48.390625 19.1875 42.75 \r\nQ 14.984375 37.109375 14.984375 27.296875 \r\nQ 14.984375 17.484375 19.15625 11.84375 \r\nQ 23.34375 6.203125 30.609375 6.203125 \r\nQ 37.796875 6.203125 41.984375 11.859375 \r\nQ 46.1875 17.53125 46.1875 27.296875 \r\nQ 46.1875 37.015625 41.984375 42.703125 \r\nQ 37.796875 48.390625 30.609375 48.390625 \r\nz\r\nM 30.609375 56 \r\nQ 42.328125 56 49.015625 48.375 \r\nQ 55.71875 40.765625 55.71875 27.296875 \r\nQ 55.71875 13.875 49.015625 6.21875 \r\nQ 42.328125 -1.421875 30.609375 -1.421875 \r\nQ 18.84375 -1.421875 12.171875 6.21875 \r\nQ 5.515625 13.875 5.515625 27.296875 \r\nQ 5.515625 40.765625 12.171875 48.375 \r\nQ 18.84375 56 30.609375 56 \r\nz\r\n\" id=\"DejaVuSans-111\"/>\r\n      <path d=\"M 54.890625 33.015625 \r\nL 54.890625 0 \r\nL 45.90625 0 \r\nL 45.90625 32.71875 \r\nQ 45.90625 40.484375 42.875 44.328125 \r\nQ 39.84375 48.1875 33.796875 48.1875 \r\nQ 26.515625 48.1875 22.3125 43.546875 \r\nQ 18.109375 38.921875 18.109375 30.90625 \r\nL 18.109375 0 \r\nL 9.078125 0 \r\nL 9.078125 54.6875 \r\nL 18.109375 54.6875 \r\nL 18.109375 46.1875 \r\nQ 21.34375 51.125 25.703125 53.5625 \r\nQ 30.078125 56 35.796875 56 \r\nQ 45.21875 56 50.046875 50.171875 \r\nQ 54.890625 44.34375 54.890625 33.015625 \r\nz\r\n\" id=\"DejaVuSans-110\"/>\r\n     </defs>\r\n     <use xlink:href=\"#DejaVuSans-69\"/>\r\n     <use x=\"63.183594\" xlink:href=\"#DejaVuSans-115\"/>\r\n     <use x=\"115.283203\" xlink:href=\"#DejaVuSans-116\"/>\r\n     <use x=\"154.492188\" xlink:href=\"#DejaVuSans-105\"/>\r\n     <use x=\"182.275391\" xlink:href=\"#DejaVuSans-109\"/>\r\n     <use x=\"279.6875\" xlink:href=\"#DejaVuSans-97\"/>\r\n     <use x=\"340.966797\" xlink:href=\"#DejaVuSans-116\"/>\r\n     <use x=\"380.175781\" xlink:href=\"#DejaVuSans-101\"/>\r\n     <use x=\"441.699219\" xlink:href=\"#DejaVuSans-100\"/>\r\n     <use x=\"505.175781\" xlink:href=\"#DejaVuSans-32\"/>\r\n     <use x=\"536.962891\" xlink:href=\"#DejaVuSans-68\"/>\r\n     <use x=\"613.964844\" xlink:href=\"#DejaVuSans-105\"/>\r\n     <use x=\"641.748047\" xlink:href=\"#DejaVuSans-115\"/>\r\n     <use x=\"693.847656\" xlink:href=\"#DejaVuSans-116\"/>\r\n     <use x=\"733.056641\" xlink:href=\"#DejaVuSans-114\"/>\r\n     <use x=\"774.169922\" xlink:href=\"#DejaVuSans-105\"/>\r\n     <use x=\"801.953125\" xlink:href=\"#DejaVuSans-98\"/>\r\n     <use x=\"865.429688\" xlink:href=\"#DejaVuSans-117\"/>\r\n     <use x=\"928.808594\" xlink:href=\"#DejaVuSans-116\"/>\r\n     <use x=\"968.017578\" xlink:href=\"#DejaVuSans-105\"/>\r\n     <use x=\"995.800781\" xlink:href=\"#DejaVuSans-111\"/>\r\n     <use x=\"1056.982422\" xlink:href=\"#DejaVuSans-110\"/>\r\n     <use x=\"1120.361328\" xlink:href=\"#DejaVuSans-115\"/>\r\n    </g>\r\n   </g>\r\n  </g>\r\n </g>\r\n <defs>\r\n  <clipPath id=\"p0f7e04b820\">\r\n   <rect height=\"217.44\" width=\"334.8\" x=\"36.465625\" y=\"22.318125\"/>\r\n  </clipPath>\r\n </defs>\r\n</svg>\r\n",
      "image/png": "[encoded data removed]"
     },
     "metadata": {
      "needs_background": "light"
     }
    }
   ],
   "source": [
    "plt.plot(x,pxgivenC1,'b-')\n",
    "plt.plot(x,pxgivenC2,'r-')\n",
    "plt.title('Estimated Distributions');"
   ]
  },
  {
   "source": [
    "Real Distributions\n",
    "\n",
    "![True pdfs](./TrueDistributions.png \"Real Distributions\") "
   ],
   "cell_type": "markdown",
   "metadata": {}
  },
  {
   "source": [
    "Now that we have estimated $P(x|C_k)$ , we only need to calculate $P(C_k)$ to start using Bayes Rule"
   ],
   "cell_type": "markdown",
   "metadata": {}
  },
  {
   "cell_type": "code",
   "execution_count": 14,
   "metadata": {},
   "outputs": [],
   "source": [
    "M = data_y.shape[0]\n",
    "#Calculating the apriori probabilities p(C1) and p(C2).\n",
    "pc1 = C1.shape[0] /M\n",
    "pc2 = C2.shape[0] / M"
   ]
  },
  {
   "cell_type": "code",
   "execution_count": 17,
   "metadata": {},
   "outputs": [],
   "source": [
    "pc1GivenX = pc1 * pxgivenC1\n",
    "pc2GivenX = pc2 * pxgivenC2"
   ]
  },
  {
   "cell_type": "code",
   "execution_count": 15,
   "metadata": {},
   "outputs": [],
   "source": [
    "def find_nearest(array, value):\n",
    " \n",
    "    array = np.asarray(array)\n",
    "    index = (np.abs(array - value)).argmin()\n",
    "    return index"
   ]
  },
  {
   "source": [
    "Prediction Stage"
   ],
   "cell_type": "markdown",
   "metadata": {}
  },
  {
   "cell_type": "code",
   "execution_count": 18,
   "metadata": {},
   "outputs": [
    {
     "output_type": "stream",
     "name": "stdout",
     "text": [
      "for point: [11.23317053] the classification:  2\n",
      "for point: [17.05956066] the classification:  2\n",
      "for point: [20.] the classification:  2\n",
      "for point: [-3.1319357] the classification:  1\n",
      "for point: [8.80189039] the classification:  2\n",
      "for point: [6.] the classification:  1\n",
      "for point: [0.14068925] the classification:  1\n",
      "for point: [3.00817328] the classification:  1\n",
      "for point: [5.] the classification:  1\n",
      "for point: [1.45768636] the classification:  1\n",
      "for point: [23.] the classification:  2\n",
      "for point: [2.47872809] the classification:  1\n",
      "for point: [-2.89862058] the classification:  1\n",
      "for point: [2.88643351] the classification:  1\n",
      "for point: [10.98552329] the classification:  2\n",
      "for point: [10.50195166] the classification:  2\n",
      "for point: [21.09271188] the classification:  2\n",
      "for point: [0.75791643] the classification:  1\n",
      "for point: [-4.01268405] the classification:  1\n",
      "for point: [-2.83807276] the classification:  1\n",
      "for point: [13.21236831] the classification:  2\n",
      "for point: [18.] the classification:  2\n",
      "for point: [4.05353281] the classification:  1\n",
      "for point: [2.96020771] the classification:  1\n",
      "for point: [0.58233444] the classification:  1\n",
      "for point: [12.57948628] the classification:  2\n",
      "for point: [-2.74915887] the classification:  1\n",
      "for point: [6.] the classification:  1\n",
      "for point: [0.82682678] the classification:  1\n",
      "for point: [19.] the classification:  2\n",
      "for point: [24.] the classification:  2\n",
      "for point: [17.] the classification:  2\n",
      "for point: [-2.09584422] the classification:  1\n",
      "for point: [0.25830443] the classification:  1\n",
      "for point: [12.40784468] the classification:  2\n",
      "for point: [1.05165023] the classification:  1\n",
      "for point: [7.] the classification:  1\n",
      "for point: [11.45179533] the classification:  2\n",
      "for point: [2.164882] the classification:  1\n",
      "for point: [4.02542079] the classification:  1\n",
      "for point: [8.05461435] the classification:  2\n",
      "for point: [14.05050832] the classification:  2\n",
      "for point: [8.] the classification:  2\n",
      "for point: [24.] the classification:  2\n",
      "for point: [12.68840762] the classification:  2\n",
      "for point: [11.15645936] the classification:  2\n",
      "for point: [12.26910594] the classification:  2\n",
      "for point: [22.] the classification:  2\n",
      "for point: [26.] the classification:  2\n",
      "for point: [12.87348982] the classification:  2\n",
      "for point: [0.20484083] the classification:  1\n",
      "for point: [10.29874226] the classification:  2\n",
      "for point: [16.54259653] the classification:  2\n",
      "for point: [11.53617634] the classification:  2\n",
      "for point: [-3.03364717] the classification:  1\n",
      "for point: [8.] the classification:  2\n",
      "for point: [7.] the classification:  1\n",
      "for point: [1.20409131] the classification:  1\n",
      "for point: [12.61722858] the classification:  2\n",
      "for point: [10.87113771] the classification:  2\n",
      "for point: [6.] the classification:  1\n",
      "for point: [12.6902838] the classification:  2\n",
      "for point: [10.] the classification:  2\n",
      "for point: [12.55888984] the classification:  2\n",
      "for point: [23.] the classification:  2\n",
      "for point: [-0.08566497] the classification:  1\n",
      "for point: [16.] the classification:  2\n",
      "for point: [7.26973899] the classification:  2\n",
      "for point: [3.27958364] the classification:  1\n",
      "for point: [3.] the classification:  1\n",
      "for point: [-3.08259835] the classification:  1\n",
      "for point: [17.] the classification:  2\n",
      "for point: [8.] the classification:  2\n",
      "for point: [0.70514228] the classification:  1\n",
      "for point: [0.54934094] the classification:  1\n",
      "for point: [-2.30346518] the classification:  1\n",
      "for point: [0.00269114] the classification:  1\n",
      "for point: [0.30951908] the classification:  1\n",
      "for point: [17.] the classification:  2\n",
      "for point: [11.02945226] the classification:  2\n",
      "for point: [11.1514939] the classification:  2\n",
      "for point: [-1.06087991] the classification:  1\n",
      "for point: [3.7830825] the classification:  1\n",
      "for point: [1.57114863] the classification:  1\n",
      "for point: [2.] the classification:  1\n",
      "for point: [18.] the classification:  2\n",
      "for point: [10.18354832] the classification:  2\n",
      "for point: [3.] the classification:  1\n",
      "for point: [-0.1242808] the classification:  1\n",
      "for point: [-0.69722827] the classification:  1\n",
      "for point: [-2.07390303] the classification:  1\n",
      "for point: [-1.00875744] the classification:  1\n",
      "for point: [18.] the classification:  2\n",
      "for point: [10.1417458] the classification:  2\n",
      "for point: [2.92657058] the classification:  1\n",
      "for point: [0.44461327] the classification:  1\n",
      "for point: [11.33405643] the classification:  2\n",
      "for point: [11.70363968] the classification:  2\n",
      "for point: [4.] the classification:  1\n",
      "for point: [-2.30025345] the classification:  1\n",
      "for point: [7.34815006] the classification:  2\n",
      "for point: [21.] the classification:  2\n",
      "for point: [10.] the classification:  2\n",
      "for point: [7.66297305] the classification:  2\n",
      "for point: [11.63367714] the classification:  2\n",
      "for point: [0.58892778] the classification:  1\n",
      "for point: [-3.61507106] the classification:  1\n",
      "for point: [27.] the classification:  2\n",
      "for point: [22.] the classification:  2\n",
      "for point: [8.07488659] the classification:  2\n",
      "for point: [23.] the classification:  2\n",
      "for point: [-4.08280822] the classification:  1\n",
      "for point: [9.43411682] the classification:  2\n",
      "for point: [3.] the classification:  1\n",
      "for point: [10.12723117] the classification:  2\n",
      "for point: [14.92710767] the classification:  2\n",
      "for point: [14.50605535] the classification:  2\n",
      "for point: [14.] the classification:  2\n",
      "for point: [12.54056379] the classification:  2\n",
      "for point: [-2.47909567] the classification:  1\n",
      "for point: [5.] the classification:  1\n",
      "for point: [16.02740065] the classification:  2\n",
      "for point: [18.] the classification:  2\n",
      "for point: [21.] the classification:  2\n",
      "for point: [6.] the classification:  1\n",
      "for point: [5.96186488] the classification:  1\n",
      "for point: [-3.62306587] the classification:  1\n",
      "for point: [11.21888551] the classification:  2\n",
      "for point: [3.08339561] the classification:  1\n",
      "for point: [12.58587476] the classification:  2\n",
      "for point: [4.19271009] the classification:  1\n",
      "for point: [6.7144799] the classification:  1\n",
      "for point: [10.66940815] the classification:  2\n",
      "for point: [-4.21851547] the classification:  1\n",
      "for point: [5.] the classification:  1\n",
      "for point: [1.2606314] the classification:  1\n",
      "for point: [11.62684981] the classification:  2\n",
      "for point: [3.] the classification:  1\n",
      "for point: [12.19238575] the classification:  2\n",
      "for point: [6.] the classification:  1\n",
      "for point: [3.] the classification:  1\n",
      "for point: [10.] the classification:  2\n",
      "for point: [0.2558917] the classification:  1\n",
      "for point: [7.0282671] the classification:  2\n",
      "for point: [17.] the classification:  2\n",
      "for point: [5.14319629] the classification:  1\n",
      "for point: [18.] the classification:  2\n",
      "for point: [6.02796066] the classification:  1\n",
      "for point: [-3.34137853] the classification:  1\n",
      "for point: [7.] the classification:  1\n",
      "for point: [0.75393221] the classification:  1\n",
      "for point: [0.24945848] the classification:  1\n",
      "for point: [1.05078378] the classification:  1\n",
      "for point: [-0.48441629] the classification:  1\n",
      "for point: [11.29841459] the classification:  2\n",
      "for point: [4.] the classification:  1\n",
      "for point: [7.] the classification:  1\n",
      "for point: [1.72559541] the classification:  1\n",
      "for point: [-0.1794073] the classification:  1\n",
      "for point: [5.] the classification:  1\n",
      "for point: [8.03921633] the classification:  2\n",
      "for point: [24.02866415] the classification:  2\n",
      "for point: [19.] the classification:  2\n",
      "for point: [1.65899063] the classification:  1\n",
      "for point: [-0.45788016] the classification:  1\n",
      "for point: [1.10658875] the classification:  1\n",
      "for point: [1.3551024] the classification:  1\n",
      "for point: [-0.81386454] the classification:  1\n",
      "for point: [8.81410816] the classification:  2\n",
      "for point: [16.33216685] the classification:  2\n",
      "for point: [0.4595173] the classification:  1\n",
      "for point: [9.9331065] the classification:  2\n",
      "for point: [-3.68741442] the classification:  1\n",
      "for point: [-4.47648462] the classification:  1\n",
      "for point: [7.] the classification:  1\n",
      "for point: [8.31126872] the classification:  2\n",
      "for point: [10.05519059] the classification:  2\n",
      "for point: [0.43523655] the classification:  1\n",
      "for point: [2.13300233] the classification:  1\n",
      "for point: [-5.02988705] the classification:  1\n",
      "for point: [13.] the classification:  2\n",
      "for point: [12.85747698] the classification:  2\n",
      "for point: [5.28177256] the classification:  1\n",
      "for point: [5.] the classification:  1\n",
      "for point: [7.33484908] the classification:  2\n",
      "for point: [12.71867117] the classification:  2\n",
      "for point: [21.] the classification:  2\n",
      "for point: [21.] the classification:  2\n",
      "for point: [9.16027171] the classification:  2\n",
      "for point: [6.] the classification:  1\n",
      "for point: [4.62602077] the classification:  1\n",
      "for point: [0.12559417] the classification:  1\n",
      "for point: [14.03434757] the classification:  2\n",
      "for point: [6.] the classification:  1\n",
      "for point: [8.] the classification:  2\n",
      "for point: [14.38203358] the classification:  2\n",
      "for point: [9.46220191] the classification:  2\n",
      "for point: [-3.3183221] the classification:  1\n",
      "for point: [0.26347067] the classification:  1\n",
      "for point: [2.91977604] the classification:  1\n",
      "for point: [-0.9989825] the classification:  1\n",
      "for point: [2.3222054] the classification:  1\n",
      "for point: [12.32218596] the classification:  2\n",
      "for point: [-2.86584969] the classification:  1\n",
      "for point: [1.22295838] the classification:  1\n",
      "for point: [15.21071041] the classification:  2\n",
      "for point: [3.] the classification:  1\n",
      "for point: [2.60391062] the classification:  1\n",
      "for point: [11.01543288] the classification:  2\n",
      "for point: [8.79677773] the classification:  2\n",
      "for point: [9.96530807] the classification:  2\n",
      "for point: [-2.26811141] the classification:  1\n",
      "for point: [1.96440094] the classification:  1\n",
      "for point: [24.] the classification:  2\n",
      "for point: [12.3028623] the classification:  2\n",
      "for point: [-1.30754999] the classification:  1\n",
      "for point: [-1.73572345] the classification:  1\n",
      "for point: [-3.30619515] the classification:  1\n",
      "for point: [3.57831656] the classification:  1\n",
      "for point: [-0.16584155] the classification:  1\n",
      "for point: [-0.31294768] the classification:  1\n",
      "for point: [28.] the classification:  2\n",
      "for point: [4.] the classification:  1\n",
      "for point: [7.65621935] the classification:  2\n",
      "for point: [11.49685595] the classification:  2\n",
      "for point: [12.06177687] the classification:  2\n",
      "for point: [-0.69137205] the classification:  1\n",
      "for point: [0.0823093] the classification:  1\n",
      "for point: [5.54159517] the classification:  1\n",
      "for point: [11.7568794] the classification:  2\n",
      "for point: [-0.94813657] the classification:  1\n",
      "for point: [-3.75851082] the classification:  1\n",
      "for point: [0.71566614] the classification:  1\n",
      "for point: [0.73113459] the classification:  1\n",
      "for point: [0.3066048] the classification:  1\n",
      "for point: [-3.97187382] the classification:  1\n",
      "for point: [10.54936315] the classification:  2\n",
      "for point: [16.] the classification:  2\n",
      "for point: [0.34323948] the classification:  1\n",
      "for point: [15.51308856] the classification:  2\n",
      "for point: [-0.66220667] the classification:  1\n",
      "for point: [15.] the classification:  2\n",
      "for point: [12.9985909] the classification:  2\n",
      "for point: [11.04217013] the classification:  2\n",
      "for point: [23.] the classification:  2\n",
      "for point: [12.8797895] the classification:  2\n",
      "for point: [3.] the classification:  1\n",
      "for point: [14.21662099] the classification:  2\n",
      "for point: [7.43832513] the classification:  2\n",
      "for point: [2.20589722] the classification:  1\n",
      "for point: [0.32997595] the classification:  1\n",
      "for point: [11.07987236] the classification:  2\n",
      "for point: [10.02173328] the classification:  2\n",
      "for point: [2.38062012] the classification:  1\n",
      "for point: [3.3330299] the classification:  1\n",
      "for point: [11.89994502] the classification:  2\n",
      "for point: [1.01142256] the classification:  1\n",
      "for point: [-1.91595289] the classification:  1\n",
      "for point: [3.85864511] the classification:  1\n",
      "for point: [0.28307264] the classification:  1\n",
      "for point: [7.6836647] the classification:  2\n",
      "for point: [0.20875098] the classification:  1\n",
      "for point: [18.] the classification:  2\n",
      "for point: [0.85843411] the classification:  1\n",
      "for point: [22.] the classification:  2\n",
      "for point: [11.76751242] the classification:  2\n",
      "for point: [7.05871167] the classification:  2\n",
      "for point: [15.50233457] the classification:  2\n",
      "for point: [11.4720431] the classification:  2\n",
      "for point: [9.] the classification:  2\n",
      "for point: [-2.35799224] the classification:  1\n",
      "for point: [14.13129143] the classification:  2\n",
      "for point: [0.18528955] the classification:  1\n",
      "for point: [12.74147371] the classification:  2\n",
      "for point: [7.11309654] the classification:  2\n",
      "for point: [10.52560801] the classification:  2\n",
      "for point: [12.40589522] the classification:  2\n",
      "for point: [1.10819638] the classification:  1\n",
      "for point: [19.] the classification:  2\n",
      "for point: [6.56989806] the classification:  1\n",
      "for point: [11.21981129] the classification:  2\n",
      "for point: [12.52687565] the classification:  2\n",
      "for point: [4.] the classification:  1\n",
      "for point: [4.31281709] the classification:  1\n",
      "for point: [12.08183967] the classification:  2\n",
      "for point: [11.] the classification:  2\n",
      "for point: [0.04872458] the classification:  1\n",
      "for point: [5.73653332] the classification:  1\n",
      "for point: [6.33959269] the classification:  1\n",
      "for point: [4.] the classification:  1\n",
      "for point: [-2.60030245] the classification:  1\n",
      "for point: [11.30717985] the classification:  2\n",
      "for point: [19.96658861] the classification:  2\n",
      "for point: [-0.98647836] the classification:  1\n",
      "for point: [13.18115383] the classification:  2\n",
      "for point: [12.45555028] the classification:  2\n",
      "for point: [8.33343959] the classification:  2\n",
      "for point: [23.] the classification:  2\n",
      "for point: [15.03570947] the classification:  2\n",
      "for point: [9.89437578] the classification:  2\n"
     ]
    }
   ],
   "source": [
    "accuracy = 0\n",
    "predicted_class = []\n",
    "for idx, point in enumerate(test_data):\n",
    "    classification = np.argmax(np.array([pc1GivenX[find_nearest(x,point)],pc2GivenX[find_nearest(x,point)]])) + 1\n",
    "    print(\"for point:\", point, \"the classification: \", classification)\n",
    "    predicted_class.append(classification)\n",
    "\n",
    "predicted_class = np.asarray(predicted_class)\n",
    "\n",
    "accuracy = np.sum(np.reshape(predicted_class,(-1,1)) == np.reshape(test_data_true,(-1,1)))/test_data_true.shape[0] * 100\n"
   ]
  },
  {
   "cell_type": "code",
   "execution_count": 20,
   "metadata": {},
   "outputs": [
    {
     "output_type": "stream",
     "name": "stdout",
     "text": [
      "Accuracy =  92.33 %\n"
     ]
    }
   ],
   "source": [
    "print(\"Accuracy = \", round(accuracy,2), \"%\")"
   ]
  },
  {
   "cell_type": "code",
   "execution_count": null,
   "metadata": {},
   "outputs": [],
   "source": []
  }
 ]
}